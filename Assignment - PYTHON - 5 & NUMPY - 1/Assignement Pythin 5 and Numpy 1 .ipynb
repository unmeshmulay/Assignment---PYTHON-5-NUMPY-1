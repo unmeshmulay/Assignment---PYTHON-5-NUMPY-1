{
 "cells": [
  {
   "cell_type": "markdown",
   "metadata": {},
   "source": [
    "<B> Unmesh Mulay </B>\n",
    "\n",
    "PYTHON 5 and Numpy 1\n",
    "\n",
    "Task 1:\n",
    "    \n",
    "1. Write a function to compute 5/0 and use try/except to catch the exceptions."
   ]
  },
  {
   "cell_type": "code",
   "execution_count": 17,
   "metadata": {},
   "outputs": [
    {
     "name": "stdout",
     "output_type": "stream",
     "text": [
      "Error - 'division by zero'\n"
     ]
    }
   ],
   "source": [
    "# Unmesh Mulay \n",
    "# Assignment Python 5 & Numpy -1Session\n",
    "# Task 1 - Program 1 - Date 12th Jan 2019 \n",
    "\n",
    "def Div(numerator, denometor):\n",
    "    try:\n",
    "        return numerator/denometor\n",
    "    except ZeroDivisionError as e:\n",
    "        return  \"Error - '\" + e.args[0] + \"'\" #\"Denometor is zero\"\n",
    "\n",
    "print(Div(5,0))\n",
    "print(\"\\n\\n\")\n"
   ]
  },
  {
   "cell_type": "markdown",
   "metadata": {},
   "source": [
    "Task 1:\n",
    "    \n",
    "2.\n",
    "Implement a Python program to generate all sentences where subject is in [\"Americans\", \"Indians\"] \n",
    "and verb is in [\"Play\", \"watch\"] and the object is in [\"Baseball\",\"cricket\"].\n",
    "\n",
    "Hint: Subject,Verb and Object should be declared in the program as shown below.\n",
    "    \n",
    "subjects=[\"Americans \",\"Indians\"]\n",
    "verbs=[\"play\",\"watch\"]\n",
    "objects=[\"Baseball\",\"Cricket\"]\n",
    "\n",
    "Output should come as below:\n",
    "    \n",
    "Americans play Baseball.\n",
    "\n",
    "Americans play Cricket.\n",
    "\n",
    "Americans watch Baseball.\n",
    "\n",
    "Americans watch Cricket.\n",
    "\n",
    "Indians play Baseball.\n",
    "\n",
    "Indians play Cricket.\n",
    "\n",
    "Indians watch Baseball.\n",
    "\n",
    "Indians watch Cricket."
   ]
  },
  {
   "cell_type": "code",
   "execution_count": 1,
   "metadata": {},
   "outputs": [
    {
     "name": "stdout",
     "output_type": "stream",
     "text": [
      "Americans play Baseball.\n",
      "Americans play Cricket.\n",
      "Americans watch Baseball.\n",
      "Americans watch Cricket.\n",
      "Indians play Baseball.\n",
      "Indians play Cricket.\n",
      "Indians watch Baseball.\n",
      "Indians watch Cricket.\n",
      "\n",
      "\n",
      "\n"
     ]
    }
   ],
   "source": [
    "# Unmesh Mulay \n",
    "# Assignment Python 5 & Numpy -1Session\n",
    "# Task 1 - Program 2 - Date 12th Jan 2019 \n",
    "\n",
    "subjects = [\"Americans\", \"Indians\"]\n",
    "verbs = [\"play\", \"watch\"]\n",
    "objects = [\"Baseball\", \"Cricket\"]\n",
    "print('\\n'.join(map(str, list(i + \" \" + j + \" \" + k + \".\" for i in subjects for j in verbs for k in objects)))) \n",
    "print(\"\\n\\n\")"
   ]
  },
  {
   "cell_type": "markdown",
   "metadata": {},
   "source": [
    "Task 2:\n",
    "    \n",
    "1. Write a function so that the columns of the output matrix are powers of the input vector.\n",
    "The order of the powers is determined by the increasing boolean argument. Specifically, when\n",
    "increasing is False, the i-th output column is the input vector raised element-wise to the power\n",
    "of N - i - 1.\n",
    "\n",
    "HINT: Such a matrix with a geometric progression in each row is named for Alexandre-\n",
    "Theophile Vandermonde."
   ]
  },
  {
   "cell_type": "code",
   "execution_count": 8,
   "metadata": {},
   "outputs": [
    {
     "name": "stdout",
     "output_type": "stream",
     "text": [
      "Out punt when when increasing boolean argument is True\n",
      "\n",
      "[[     1     11    121   1331  14641 161051]\n",
      " [     1      3      9     27     81    243]\n",
      " [     1      7     49    343   2401  16807]\n",
      " [     1      9     81    729   6561  59049]\n",
      " [     1      4     16     64    256   1024]\n",
      " [     1      6     36    216   1296   7776]]\n",
      "\n",
      "\n",
      "\n",
      "Out punt when when increasing boolean argument is False\n",
      "\n",
      "[[161051  14641   1331    121     11      1]\n",
      " [   243     81     27      9      3      1]\n",
      " [ 16807   2401    343     49      7      1]\n",
      " [ 59049   6561    729     81      9      1]\n",
      " [  1024    256     64     16      4      1]\n",
      " [  7776   1296    216     36      6      1]]\n",
      "\n",
      "\n",
      "\n"
     ]
    }
   ],
   "source": [
    "# Unmesh Mulay \n",
    "# Assignment Python 5 & Numpy \n",
    "# Task 2 - Program 1 - Date 13th Jan 2019 \n",
    "\n",
    "import numpy as np\n",
    "myArr = np.array([11, 3, 7, 9, 4, 6])\n",
    "\n",
    "print(\"Out punt when when increasing boolean argument is True\\n\")\n",
    "print(np.vander(myArr, increasing = True))\n",
    "print(\"\\n\\n\")\n",
    "print(\"Out punt when when increasing boolean argument is False\\n\")\n",
    "\n",
    "print(np.vander(myArr, increasing = False))\n",
    "print(\"\\n\\n\")"
   ]
  }
 ],
 "metadata": {
  "kernelspec": {
   "display_name": "Python 3",
   "language": "python",
   "name": "python3"
  },
  "language_info": {
   "codemirror_mode": {
    "name": "ipython",
    "version": 3
   },
   "file_extension": ".py",
   "mimetype": "text/x-python",
   "name": "python",
   "nbconvert_exporter": "python",
   "pygments_lexer": "ipython3",
   "version": "3.7.1"
  }
 },
 "nbformat": 4,
 "nbformat_minor": 2
}
